{
 "cells": [
  {
   "cell_type": "code",
   "execution_count": 1,
   "id": "05a2cd87",
   "metadata": {},
   "outputs": [],
   "source": [
    "def fahrenheit_to_celsius(fahrenheit):\n",
    "    return (fahrenheit - 32) * 5.0/9.0\n",
    "\n",
    "def celsius_to_fahrenheit(celsius):\n",
    "    return celsius * 9.0/5.0 + 32\n",
    "\n"
   ]
  },
  {
   "cell_type": "code",
   "execution_count": 2,
   "id": "fa40dc18",
   "metadata": {},
   "outputs": [
    {
     "name": "stdout",
     "output_type": "stream",
     "text": [
      "Temperature Converter\n",
      "1. Fahrenheit to Celsius\n",
      "2. Celsius to Fahrenheit\n",
      "Enter your choice (1 or 2): 1\n",
      "Enter temperature in Fahrenheit: 28\n",
      "28.0 Fahrenheit is equal to -2.22 Celsius\n"
     ]
    }
   ],
   "source": [
    "def main():\n",
    "    print(\"Temperature Converter\")\n",
    "    print(\"1. Fahrenheit to Celsius\")\n",
    "    print(\"2. Celsius to Fahrenheit\")\n",
    "\n",
    "    choice = int(input(\"Enter your choice (1 or 2): \"))\n",
    "\n",
    "    if choice == 1:\n",
    "        f_temp = float(input(\"Enter temperature in Fahrenheit: \"))\n",
    "        c_temp = fahrenheit_to_celsius(f_temp)\n",
    "        print(f\"{f_temp} Fahrenheit is equal to {c_temp:.2f} Celsius\")\n",
    "    elif choice == 2:\n",
    "        c_temp = float(input(\"Enter temperature in Celsius: \"))\n",
    "        f_temp = celsius_to_fahrenheit(c_temp)\n",
    "        print(f\"{c_temp} Celsius is equal to {f_temp:.2f} Fahrenheit\")\n",
    "    else:\n",
    "        print(\"Invalid choice. Please enter 1 or 2.\")\n",
    "\n",
    "if __name__ == \"__main__\":\n",
    "    main()\n"
   ]
  },
  {
   "cell_type": "code",
   "execution_count": null,
   "id": "55fb8b18",
   "metadata": {},
   "outputs": [],
   "source": []
  }
 ],
 "metadata": {
  "kernelspec": {
   "display_name": "Python 3 (ipykernel)",
   "language": "python",
   "name": "python3"
  },
  "language_info": {
   "codemirror_mode": {
    "name": "ipython",
    "version": 3
   },
   "file_extension": ".py",
   "mimetype": "text/x-python",
   "name": "python",
   "nbconvert_exporter": "python",
   "pygments_lexer": "ipython3",
   "version": "3.9.13"
  }
 },
 "nbformat": 4,
 "nbformat_minor": 5
}
